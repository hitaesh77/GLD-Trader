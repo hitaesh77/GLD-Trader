{
 "cells": [
  {
   "cell_type": "code",
   "execution_count": null,
   "id": "4594413a",
   "metadata": {},
   "outputs": [],
   "source": [
    "import yfinance as yf\n",
    "import pandas as pd"
   ]
  },
  {
   "cell_type": "code",
   "execution_count": 6,
   "id": "4365d086",
   "metadata": {},
   "outputs": [],
   "source": [
    "start=\"2020-01-01\" \n",
    "end=\"2025-07-10\""
   ]
  },
  {
   "cell_type": "code",
   "execution_count": 7,
   "id": "f2da7e87",
   "metadata": {},
   "outputs": [],
   "source": [
    "dat = yf.Ticker(\"GLD\")\n",
    "df = dat.history(start=start, end=end)       \n",
    "df = df.dropna()                          \n"
   ]
  },
  {
   "cell_type": "code",
   "execution_count": 11,
   "id": "6587fb36",
   "metadata": {},
   "outputs": [],
   "source": [
    "df.to_csv(\"gld_daily.csv\")"
   ]
  },
  {
   "cell_type": "code",
   "execution_count": null,
   "id": "b407b65f",
   "metadata": {},
   "outputs": [],
   "source": []
  }
 ],
 "metadata": {
  "kernelspec": {
   "display_name": "env_10301",
   "language": "python",
   "name": "python3"
  },
  "language_info": {
   "codemirror_mode": {
    "name": "ipython",
    "version": 3
   },
   "file_extension": ".py",
   "mimetype": "text/x-python",
   "name": "python",
   "nbconvert_exporter": "python",
   "pygments_lexer": "ipython3",
   "version": "3.9.7"
  }
 },
 "nbformat": 4,
 "nbformat_minor": 5
}
